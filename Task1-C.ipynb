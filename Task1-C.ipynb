{
 "cells": [
  {
   "cell_type": "code",
   "execution_count": 1,
   "id": "f37bdc0d",
   "metadata": {},
   "outputs": [],
   "source": [
    "import pyodbc"
   ]
  },
  {
   "cell_type": "code",
   "execution_count": 2,
   "id": "0d5b4899",
   "metadata": {},
   "outputs": [],
   "source": [
    "import pandas as pd"
   ]
  },
  {
   "cell_type": "code",
   "execution_count": 3,
   "id": "7e76fbc8",
   "metadata": {},
   "outputs": [],
   "source": [
    "connection = pyodbc.connect('Driver={SQL Server};'\n",
    "                      'Server=DESKTOP-GPS9010\\SQLEXPRESS;'\n",
    "                      'Database=Patient Registration ;')"
   ]
  },
  {
   "cell_type": "code",
   "execution_count": 4,
   "id": "d025fb72",
   "metadata": {},
   "outputs": [],
   "source": [
    "cursor = connection.cursor()"
   ]
  },
  {
   "cell_type": "code",
   "execution_count": 5,
   "id": "581606f2",
   "metadata": {},
   "outputs": [
    {
     "name": "stdout",
     "output_type": "stream",
     "text": [
      "(1, 'Ali', 'M', 12507384957, 'Ontario', '2022-07-04')\n",
      "(2, 'Salima', 'F', 12506482904, 'British Columbia', '2022-07-06')\n",
      "(3, 'Ahmed', 'M', 12507483947, 'Ontario', '2022-07-06')\n",
      "(4, 'Sania', 'F', 12502748001, 'Ontario', '2022-07-07')\n",
      "(5, 'Sana', 'F', 12505832224, 'Ontario', '2022-07-08')\n",
      "(6, 'Imran', 'M', 12505099922, 'British Columbia', '2022-07-12')\n",
      "(7, 'Rizwan', 'M', 12505992244, 'Ontarioo', '2022-08-12')\n",
      "(8, 'Sara', 'F', 12505992343, 'Ontario', '2022-08-12')\n",
      "(9, 'Alisha', 'F', 12505998573, 'British Columbia', '2022-08-13')\n",
      "(10, 'Yasmeen', 'F', 12505998239, 'British Columbia', '2022-08-14')\n"
     ]
    }
   ],
   "source": [
    "cursor.execute('SELECT * FROM Patient_Info')\n",
    "for i in cursor:\n",
    "    print(i)"
   ]
  },
  {
   "cell_type": "code",
   "execution_count": 6,
   "id": "77e474d5",
   "metadata": {},
   "outputs": [
    {
     "name": "stdout",
     "output_type": "stream",
     "text": [
      "(1, 1, 4)\n",
      "(2, 2, 3)\n",
      "(3, 3, 2)\n",
      "(4, 4, 1)\n",
      "(5, 5, 6)\n",
      "(6, 6, 5)\n",
      "(7, 7, 8)\n",
      "(8, 8, 7)\n"
     ]
    }
   ],
   "source": [
    "cursor.execute('SELECT * FROM Partner_Partner_Mapping')\n",
    "for i in cursor:\n",
    "    print(i)"
   ]
  },
  {
   "cell_type": "code",
   "execution_count": 7,
   "id": "a5147ef1",
   "metadata": {},
   "outputs": [
    {
     "data": {
      "text/plain": [
       "(1, 'Ali', 'M', 12507384957, 'Ontario', '2022-07-04')"
      ]
     },
     "execution_count": 7,
     "metadata": {},
     "output_type": "execute_result"
    }
   ],
   "source": [
    "cursor.execute('SELECT * FROM Patient_Info')\n",
    "cursor.fetchone()"
   ]
  },
  {
   "cell_type": "code",
   "execution_count": 8,
   "id": "a6029e2f",
   "metadata": {},
   "outputs": [
    {
     "data": {
      "text/plain": [
       "[(1, 1, 4),\n",
       " (2, 2, 3),\n",
       " (3, 3, 2),\n",
       " (4, 4, 1),\n",
       " (5, 5, 6),\n",
       " (6, 6, 5),\n",
       " (7, 7, 8),\n",
       " (8, 8, 7)]"
      ]
     },
     "execution_count": 8,
     "metadata": {},
     "output_type": "execute_result"
    }
   ],
   "source": [
    "cursor.execute('SELECT * FROM Partner_Partner_Mapping')\n",
    "cursor.fetchall()"
   ]
  },
  {
   "cell_type": "code",
   "execution_count": 9,
   "id": "73840f73",
   "metadata": {},
   "outputs": [],
   "source": [
    "cursor.execute('SELECT * FROM Patient_Info')\n",
    "rows = cursor.fetchall()"
   ]
  },
  {
   "cell_type": "code",
   "execution_count": 10,
   "id": "523e1691",
   "metadata": {},
   "outputs": [
    {
     "name": "stdout",
     "output_type": "stream",
     "text": [
      "(1, 'Ali', 'M', 12507384957, 'Ontario', '2022-07-04')\n",
      "(2, 'Salima', 'F', 12506482904, 'British Columbia', '2022-07-06')\n",
      "(3, 'Ahmed', 'M', 12507483947, 'Ontario', '2022-07-06')\n",
      "(4, 'Sania', 'F', 12502748001, 'Ontario', '2022-07-07')\n",
      "(5, 'Sana', 'F', 12505832224, 'Ontario', '2022-07-08')\n",
      "(6, 'Imran', 'M', 12505099922, 'British Columbia', '2022-07-12')\n",
      "(7, 'Rizwan', 'M', 12505992244, 'Ontarioo', '2022-08-12')\n",
      "(8, 'Sara', 'F', 12505992343, 'Ontario', '2022-08-12')\n",
      "(9, 'Alisha', 'F', 12505998573, 'British Columbia', '2022-08-13')\n",
      "(10, 'Yasmeen', 'F', 12505998239, 'British Columbia', '2022-08-14')\n"
     ]
    }
   ],
   "source": [
    "for i in rows:\n",
    "    print(i)"
   ]
  },
  {
   "cell_type": "code",
   "execution_count": 11,
   "id": "4252b655",
   "metadata": {},
   "outputs": [],
   "source": [
    "cursor.execute('SELECT * FROM Partner_Partner_Mapping')\n",
    "rows = cursor.fetchall()"
   ]
  },
  {
   "cell_type": "code",
   "execution_count": 12,
   "id": "11d04ba7",
   "metadata": {},
   "outputs": [
    {
     "name": "stdout",
     "output_type": "stream",
     "text": [
      "(1, 1, 4)\n",
      "(2, 2, 3)\n",
      "(3, 3, 2)\n",
      "(4, 4, 1)\n",
      "(5, 5, 6)\n",
      "(6, 6, 5)\n",
      "(7, 7, 8)\n",
      "(8, 8, 7)\n"
     ]
    }
   ],
   "source": [
    "for i in rows:\n",
    "    print(i)"
   ]
  },
  {
   "cell_type": "code",
   "execution_count": 13,
   "id": "65165fd8",
   "metadata": {},
   "outputs": [
    {
     "name": "stdout",
     "output_type": "stream",
     "text": [
      "   Patient_ID Patient_Name Patient_Gender  Patient_Phone          Province  \\\n",
      "0           1          Ali              M    12507384957           Ontario   \n",
      "1           2       Salima              F    12506482904  British Columbia   \n",
      "2           3        Ahmed              M    12507483947           Ontario   \n",
      "3           4        Sania              F    12502748001           Ontario   \n",
      "4           5         Sana              F    12505832224           Ontario   \n",
      "5           6        Imran              M    12505099922  British Columbia   \n",
      "6           7       Rizwan              M    12505992244          Ontarioo   \n",
      "7           8         Sara              F    12505992343           Ontario   \n",
      "8           9       Alisha              F    12505998573  British Columbia   \n",
      "9          10      Yasmeen              F    12505998239  British Columbia   \n",
      "\n",
      "   Created_at  \n",
      "0  2022-07-04  \n",
      "1  2022-07-06  \n",
      "2  2022-07-06  \n",
      "3  2022-07-07  \n",
      "4  2022-07-08  \n",
      "5  2022-07-12  \n",
      "6  2022-08-12  \n",
      "7  2022-08-12  \n",
      "8  2022-08-13  \n",
      "9  2022-08-14  \n"
     ]
    }
   ],
   "source": [
    "df = pd.read_sql_query('SELECT * FROM Patient_Info', connection)\n",
    "print(df)"
   ]
  },
  {
   "cell_type": "code",
   "execution_count": 14,
   "id": "1801e072",
   "metadata": {},
   "outputs": [
    {
     "name": "stdout",
     "output_type": "stream",
     "text": [
      "   Patient_Partner_ID  Patient_ID  Partner_ID\n",
      "0                   1           1           4\n",
      "1                   2           2           3\n",
      "2                   3           3           2\n",
      "3                   4           4           1\n",
      "4                   5           5           6\n",
      "5                   6           6           5\n",
      "6                   7           7           8\n",
      "7                   8           8           7\n"
     ]
    }
   ],
   "source": [
    "df = pd.read_sql_query('SELECT * FROM Partner_Partner_Mapping', connection)\n",
    "print(df)"
   ]
  }
 ],
 "metadata": {
  "kernelspec": {
   "display_name": "Python 3 (ipykernel)",
   "language": "python",
   "name": "python3"
  },
  "language_info": {
   "codemirror_mode": {
    "name": "ipython",
    "version": 3
   },
   "file_extension": ".py",
   "mimetype": "text/x-python",
   "name": "python",
   "nbconvert_exporter": "python",
   "pygments_lexer": "ipython3",
   "version": "3.9.7"
  }
 },
 "nbformat": 4,
 "nbformat_minor": 5
}
